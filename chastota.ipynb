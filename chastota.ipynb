{
 "cells": [
  {
   "cell_type": "code",
   "execution_count": 41,
   "metadata": {},
   "outputs": [],
   "source": [
    "import pandas as pd"
   ]
  },
  {
   "cell_type": "code",
   "execution_count": 42,
   "metadata": {},
   "outputs": [
    {
     "data": {
      "text/html": [
       "<div>\n",
       "<style scoped>\n",
       "    .dataframe tbody tr th:only-of-type {\n",
       "        vertical-align: middle;\n",
       "    }\n",
       "\n",
       "    .dataframe tbody tr th {\n",
       "        vertical-align: top;\n",
       "    }\n",
       "\n",
       "    .dataframe thead th {\n",
       "        text-align: right;\n",
       "    }\n",
       "</style>\n",
       "<table border=\"1\" class=\"dataframe\">\n",
       "  <thead>\n",
       "    <tr style=\"text-align: right;\">\n",
       "      <th></th>\n",
       "      <th>буква</th>\n",
       "      <th>употреблений</th>\n",
       "      <th>частотность</th>\n",
       "    </tr>\n",
       "    <tr>\n",
       "      <th>ранг</th>\n",
       "      <th></th>\n",
       "      <th></th>\n",
       "      <th></th>\n",
       "    </tr>\n",
       "  </thead>\n",
       "  <tbody>\n",
       "    <tr>\n",
       "      <th>1</th>\n",
       "      <td>о</td>\n",
       "      <td>55414481</td>\n",
       "      <td>10,97%</td>\n",
       "    </tr>\n",
       "    <tr>\n",
       "      <th>2</th>\n",
       "      <td>е</td>\n",
       "      <td>42691213</td>\n",
       "      <td>8,45%</td>\n",
       "    </tr>\n",
       "    <tr>\n",
       "      <th>3</th>\n",
       "      <td>а</td>\n",
       "      <td>40487008</td>\n",
       "      <td>8,01%</td>\n",
       "    </tr>\n",
       "    <tr>\n",
       "      <th>4</th>\n",
       "      <td>и</td>\n",
       "      <td>37153142</td>\n",
       "      <td>7,35%</td>\n",
       "    </tr>\n",
       "    <tr>\n",
       "      <th>5</th>\n",
       "      <td>н</td>\n",
       "      <td>33838881</td>\n",
       "      <td>6,70%</td>\n",
       "    </tr>\n",
       "  </tbody>\n",
       "</table>\n",
       "</div>"
      ],
      "text/plain": [
       "     буква  употреблений частотность\n",
       "ранг                                \n",
       "1        о      55414481      10,97%\n",
       "2        е      42691213       8,45%\n",
       "3        а      40487008       8,01%\n",
       "4        и      37153142       7,35%\n",
       "5        н      33838881       6,70%"
      ]
     },
     "execution_count": 42,
     "metadata": {},
     "output_type": "execute_result"
    }
   ],
   "source": [
    "phrase = list(input().lower())\n",
    "abc = ['а', 'б', 'в', 'г', 'д', 'е', 'ё', 'ж', 'з', 'и', 'й', 'к', 'л', 'м', 'н', 'о', 'п', 'р', 'с', 'т', 'у', 'ф', 'х', 'ц', 'ч', 'ш', 'щ', 'ъ', 'ы', 'ь', 'э', 'ю', 'я']\n",
    "\n",
    "top_dict = {}\n",
    "\n",
    "chastota = pd.read_csv('chastota.csv', index_col=1)\n",
    "chastota.head()"
   ]
  },
  {
   "cell_type": "code",
   "execution_count": 43,
   "metadata": {},
   "outputs": [
    {
     "data": {
      "text/html": [
       "<div>\n",
       "<style scoped>\n",
       "    .dataframe tbody tr th:only-of-type {\n",
       "        vertical-align: middle;\n",
       "    }\n",
       "\n",
       "    .dataframe tbody tr th {\n",
       "        vertical-align: top;\n",
       "    }\n",
       "\n",
       "    .dataframe thead th {\n",
       "        text-align: right;\n",
       "    }\n",
       "</style>\n",
       "<table border=\"1\" class=\"dataframe\">\n",
       "  <thead>\n",
       "    <tr style=\"text-align: right;\">\n",
       "      <th></th>\n",
       "      <th>буква</th>\n",
       "      <th>частотность</th>\n",
       "    </tr>\n",
       "    <tr>\n",
       "      <th>ранг</th>\n",
       "      <th></th>\n",
       "      <th></th>\n",
       "    </tr>\n",
       "  </thead>\n",
       "  <tbody>\n",
       "    <tr>\n",
       "      <th>1</th>\n",
       "      <td>о</td>\n",
       "      <td>10,97%</td>\n",
       "    </tr>\n",
       "    <tr>\n",
       "      <th>2</th>\n",
       "      <td>е</td>\n",
       "      <td>8,45%</td>\n",
       "    </tr>\n",
       "    <tr>\n",
       "      <th>3</th>\n",
       "      <td>а</td>\n",
       "      <td>8,01%</td>\n",
       "    </tr>\n",
       "    <tr>\n",
       "      <th>4</th>\n",
       "      <td>и</td>\n",
       "      <td>7,35%</td>\n",
       "    </tr>\n",
       "    <tr>\n",
       "      <th>5</th>\n",
       "      <td>н</td>\n",
       "      <td>6,70%</td>\n",
       "    </tr>\n",
       "  </tbody>\n",
       "</table>\n",
       "</div>"
      ],
      "text/plain": [
       "     буква частотность\n",
       "ранг                  \n",
       "1        о      10,97%\n",
       "2        е       8,45%\n",
       "3        а       8,01%\n",
       "4        и       7,35%\n",
       "5        н       6,70%"
      ]
     },
     "execution_count": 43,
     "metadata": {},
     "output_type": "execute_result"
    }
   ],
   "source": [
    "chast = chastota.drop('употреблений', axis=1)\n",
    "chast.head()"
   ]
  },
  {
   "cell_type": "code",
   "execution_count": 44,
   "metadata": {},
   "outputs": [
    {
     "name": "stdout",
     "output_type": "stream",
     "text": [
      "{'а': 5.563689604685212, 'б': 0.8784773060029283, 'в': 3.953147877013177, 'г': 1.7569546120058566, 'д': 3.3674963396778916, 'е': 6.734992679355783, 'ё': 0.0, 'ж': 0.5856515373352855, 'з': 1.171303074670571, 'и': 6.295754026354319, 'й': 1.171303074670571, 'к': 3.513909224011713, 'л': 4.24597364568082, 'м': 2.4890190336749636, 'н': 4.978038067349927, 'о': 8.199121522693996, 'п': 2.342606149341142, 'р': 4.538799414348463, 'с': 3.953147877013177, 'т': 3.513909224011713, 'у': 1.4641288433382138, 'ф': 0.7320644216691069, 'х': 1.0248901903367496, 'ц': 1.3177159590043925, 'ч': 1.171303074670571, 'ш': 0.14641288433382138, 'щ': 0.29282576866764276, 'ъ': 0.0, 'ы': 2.1961932650073206, 'ь': 0.7320644216691069, 'э': 0.14641288433382138, 'ю': 0.0, 'я': 2.342606149341142}\n"
     ]
    },
    {
     "data": {
      "text/html": [
       "<div>\n",
       "<style scoped>\n",
       "    .dataframe tbody tr th:only-of-type {\n",
       "        vertical-align: middle;\n",
       "    }\n",
       "\n",
       "    .dataframe tbody tr th {\n",
       "        vertical-align: top;\n",
       "    }\n",
       "\n",
       "    .dataframe thead th {\n",
       "        text-align: right;\n",
       "    }\n",
       "</style>\n",
       "<table border=\"1\" class=\"dataframe\">\n",
       "  <thead>\n",
       "    <tr style=\"text-align: right;\">\n",
       "      <th></th>\n",
       "      <th>буква</th>\n",
       "      <th>частотность</th>\n",
       "    </tr>\n",
       "    <tr>\n",
       "      <th>ранг</th>\n",
       "      <th></th>\n",
       "      <th></th>\n",
       "    </tr>\n",
       "  </thead>\n",
       "  <tbody>\n",
       "    <tr>\n",
       "      <th>1</th>\n",
       "      <td>о</td>\n",
       "      <td>10,97%</td>\n",
       "    </tr>\n",
       "    <tr>\n",
       "      <th>2</th>\n",
       "      <td>е</td>\n",
       "      <td>8,45%</td>\n",
       "    </tr>\n",
       "    <tr>\n",
       "      <th>3</th>\n",
       "      <td>а</td>\n",
       "      <td>8,01%</td>\n",
       "    </tr>\n",
       "    <tr>\n",
       "      <th>4</th>\n",
       "      <td>и</td>\n",
       "      <td>7,35%</td>\n",
       "    </tr>\n",
       "    <tr>\n",
       "      <th>5</th>\n",
       "      <td>н</td>\n",
       "      <td>6,70%</td>\n",
       "    </tr>\n",
       "    <tr>\n",
       "      <th>6</th>\n",
       "      <td>т</td>\n",
       "      <td>6,26%</td>\n",
       "    </tr>\n",
       "    <tr>\n",
       "      <th>7</th>\n",
       "      <td>с</td>\n",
       "      <td>5,47%</td>\n",
       "    </tr>\n",
       "    <tr>\n",
       "      <th>8</th>\n",
       "      <td>р</td>\n",
       "      <td>4,73%</td>\n",
       "    </tr>\n",
       "    <tr>\n",
       "      <th>9</th>\n",
       "      <td>в</td>\n",
       "      <td>4,54%</td>\n",
       "    </tr>\n",
       "    <tr>\n",
       "      <th>10</th>\n",
       "      <td>л</td>\n",
       "      <td>4,40%</td>\n",
       "    </tr>\n",
       "  </tbody>\n",
       "</table>\n",
       "</div>"
      ],
      "text/plain": [
       "     буква частотность\n",
       "ранг                  \n",
       "1        о      10,97%\n",
       "2        е       8,45%\n",
       "3        а       8,01%\n",
       "4        и       7,35%\n",
       "5        н       6,70%\n",
       "6        т       6,26%\n",
       "7        с       5,47%\n",
       "8        р       4,73%\n",
       "9        в       4,54%\n",
       "10       л       4,40%"
      ]
     },
     "execution_count": 44,
     "metadata": {},
     "output_type": "execute_result"
    }
   ],
   "source": [
    "def top_of_letters(x):\n",
    "    for i in range(len(abc)):\n",
    "        top_dict[abc[i]] = (x.count(abc[i])/len(x))*100\n",
    "    return top_dict\n",
    "\n",
    "top_dict = top_of_letters(phrase)\n",
    "print(top_dict)\n",
    "\n",
    "chast.head(10)"
   ]
  },
  {
   "cell_type": "code",
   "execution_count": 45,
   "metadata": {},
   "outputs": [
    {
     "ename": "SyntaxError",
     "evalue": "incomplete input (2119840821.py, line 2)",
     "output_type": "error",
     "traceback": [
      "\u001b[0;36m  File \u001b[0;32m\"/tmp/ipykernel_42926/2119840821.py\"\u001b[0;36m, line \u001b[0;32m2\u001b[0m\n\u001b[0;31m    \u001b[0m\n\u001b[0m    ^\u001b[0m\n\u001b[0;31mSyntaxError\u001b[0m\u001b[0;31m:\u001b[0m incomplete input\n"
     ]
    }
   ],
   "source": [
    "def replace():\n",
    "    "
   ]
  }
 ],
 "metadata": {
  "kernelspec": {
   "display_name": "Python 3.10.4 64-bit",
   "language": "python",
   "name": "python3"
  },
  "language_info": {
   "codemirror_mode": {
    "name": "ipython",
    "version": 3
   },
   "file_extension": ".py",
   "mimetype": "text/x-python",
   "name": "python",
   "nbconvert_exporter": "python",
   "pygments_lexer": "ipython3",
   "version": "3.10.4"
  },
  "orig_nbformat": 4,
  "vscode": {
   "interpreter": {
    "hash": "e7370f93d1d0cde622a1f8e1c04877d8463912d04d973331ad4851f04de6915a"
   }
  }
 },
 "nbformat": 4,
 "nbformat_minor": 2
}
